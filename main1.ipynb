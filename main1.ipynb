{
 "cells": [
  {
   "attachments": {},
   "cell_type": "markdown",
   "metadata": {},
   "source": [
    "## Proyecto Individual 3 \n",
    "\n",
    "Leonardo Cueto "
   ]
  },
  {
   "attachments": {},
   "cell_type": "markdown",
   "metadata": {},
   "source": [
    "# EDA"
   ]
  },
  {
   "attachments": {},
   "cell_type": "markdown",
   "metadata": {},
   "source": [
    "Descarga de librerías necesarias para el programa "
   ]
  },
  {
   "cell_type": "code",
   "execution_count": 291,
   "metadata": {},
   "outputs": [],
   "source": [
    "\n",
    "import pandas as pd\n",
    "from sqlalchemy.engine import URL\n",
    "from sqlalchemy import create_engine\n",
    "import seaborn as sns\n",
    "import matplotlib.pyplot as plt\n",
    "sns.set()"
   ]
  },
  {
   "attachments": {},
   "cell_type": "markdown",
   "metadata": {},
   "source": [
    "Descarga del dataset incluído en la página del proyecto, más DatosTrimestralesNacionale, Dataframe que junta otros datos"
   ]
  },
  {
   "cell_type": "code",
   "execution_count": 292,
   "metadata": {},
   "outputs": [],
   "source": [
    "# descarga de data necesaria para realizar el trabajo \n",
    "\n",
    "AccesoInternetFijoVelocidadBajadaProvincia =pd.read_csv('D:\\HENRY\\PI03\\Datasets\\datasetIni\\AccesoInternetFijoVelocidadBajadaProvincia.csv')\n",
    "AccesosaInternetFijoTecnologiaLocalidad =pd.read_csv('D:\\HENRY\\PI03\\Datasets\\datasetIni\\AccesosaInternetFijoTecnologiaLocalidad.csv')\n",
    "AccesosaInternetFijoVelocidadBajadaProvincia =pd.read_csv('D:\\HENRY\\PI03\\Datasets\\datasetIni\\AccesosaInternetFijoVelocidadBajadaProvincia.csv')\n",
    "AccesosaInternetFijoVelocidaddeBajadaLocalidad =pd.read_csv('D:\\HENRY\\PI03\\Datasets\\datasetIni\\AccesosaInternetFijoVelocidaddeBajadaLocalidad.csv')\n",
    "AccesosBandaAnchaAngosta =pd.read_csv('D:\\HENRY\\PI03\\Datasets\\datasetIni\\AccesosBandaAnchaAngosta.csv')\n",
    "AccesosBandaAnchaAngostaProvincia =pd.read_csv('D:\\HENRY\\PI03\\Datasets\\datasetIni\\AccesosBandaAnchaAngostaProvincia.csv')\n",
    "AccesosInternetFijoTecnologiaProvincia =pd.read_csv('D:\\HENRY\\PI03\\Datasets\\datasetIni\\AccesosInternetFijoTecnologiaProvincia.csv')\n",
    "AccesosInternetFijoTecnologiaTrimestral =pd.read_csv('D:\\HENRY\\PI03\\Datasets\\datasetIni\\AccesosInternetFijoTecnologiaTrimestral.csv')\n",
    "AccesosInternetFijoVelocidad =pd.read_csv('D:\\HENRY\\PI03\\Datasets\\datasetIni\\AccesosInternetFijoVelocidad.csv')\n",
    "ConectividadalServiciodeInternet =pd.read_csv('D:\\HENRY\\PI03\\Datasets\\datasetIni\\ConectividadalServiciodeInternet.csv')\n",
    "IngresosInternetFIjoTrimestral =pd.read_csv('D:\\HENRY\\PI03\\Datasets\\datasetIni\\IngresosInternetFIjoTrimestral.csv')\n",
    "ListadoLocalidadesconConectividadaInternet =pd.read_csv('D:\\HENRY\\PI03\\Datasets\\datasetIni\\ListadoLocalidadesconConectividadaInternet.csv')\n",
    "PenetracionInternetFijo100H =pd.read_csv('D:\\HENRY\\PI03\\Datasets\\datasetIni\\PenetracionInternetFijo100H.csv')\n",
    "PenetracionInternetFijoNacH =pd.read_csv('D:\\HENRY\\PI03\\Datasets\\datasetIni\\PenetracionInternetFijoNacH.csv')\n",
    "VelocidadMediaBajadaInternetFijo =pd.read_csv('D:\\HENRY\\PI03\\Datasets\\datasetIni\\VelocidadMediaBajadaInternetFijo.csv')\n",
    "VelocidadMediaBajadaInternetFijoProvincia =pd.read_csv('D:\\HENRY\\PI03\\Datasets\\datasetIni\\VelocidadMediaBajadaInternetFijoProvincia.csv')\n",
    "DatosTrimestralesNacionales =pd.read_csv('D:\\HENRY\\PI03\\Datasets\\Data\\DatosTrimestralesNacionales.csv')"
   ]
  },
  {
   "attachments": {},
   "cell_type": "markdown",
   "metadata": {},
   "source": [
    "Imprimo los datos para darme una primer idea"
   ]
  },
  {
   "cell_type": "code",
   "execution_count": 293,
   "metadata": {},
   "outputs": [
    {
     "name": "stdout",
     "output_type": "stream",
     "text": [
      "Tabla no  0 :\n",
      "      Año  Trimestre        Provincia  HASTA 512 kbps  + 512 Kbps - 1 Mbps  \\\n",
      "0  2022          2     Buenos Aires          30.639               28.323   \n",
      "1  2022          2  Capital Federal         517.000                5.980   \n",
      "\n",
      "  + 1 Mbps - 6 Mbps  + 6 Mbps - 10 Mbps  + 10 Mbps - 20 Mbps  \\\n",
      "0           295.238             307.554              273.954   \n",
      "1            36.036              72.434               55.372   \n",
      "\n",
      "   + 20 Mbps - 30 Mbps  + 30 Mbps    OTROS      Total  \n",
      "0              129.869  3.535.757   65.849  4.667.183  \n",
      "1               31.571  1.229.254  105.607  1.536.771  \n"
     ]
    }
   ],
   "source": [
    "dataset = (AccesoInternetFijoVelocidadBajadaProvincia,AccesosaInternetFijoTecnologiaLocalidad,AccesosaInternetFijoVelocidadBajadaProvincia,\n",
    "            AccesosaInternetFijoVelocidaddeBajadaLocalidad,AccesosBandaAnchaAngosta,AccesosBandaAnchaAngostaProvincia,\n",
    "            AccesosInternetFijoTecnologiaProvincia,AccesosInternetFijoTecnologiaTrimestral,AccesosInternetFijoVelocidad,\n",
    "            ConectividadalServiciodeInternet,IngresosInternetFIjoTrimestral,ListadoLocalidadesconConectividadaInternet,\n",
    "            PenetracionInternetFijo100H,PenetracionInternetFijoNacH,VelocidadMediaBajadaInternetFijo,\n",
    "            VelocidadMediaBajadaInternetFijoProvincia)\n",
    "# Numero de Dataframes incluidos = 16 \n",
    "for i,_ in enumerate(dataset): \n",
    "    if i == 1:\n",
    "        break\n",
    "    else:\n",
    "        print('Tabla no ',i,':\\n ',(_.head(2)))"
   ]
  },
  {
   "attachments": {},
   "cell_type": "markdown",
   "metadata": {},
   "source": [
    "Considero que las siguientes tablas no son reelevantes para lo que queremos hacer, por lo que las dejamos de lado:\n"
   ]
  },
  {
   "attachments": {},
   "cell_type": "markdown",
   "metadata": {},
   "source": [
    "AccesosaInternetFijoVelocidadBajadaProvincia\n"
   ]
  },
  {
   "attachments": {},
   "cell_type": "markdown",
   "metadata": {},
   "source": [
    "AccesosaInternetFijoVelocidaddeBajadaLocalidad\n"
   ]
  },
  {
   "attachments": {},
   "cell_type": "markdown",
   "metadata": {},
   "source": [
    "AccesosInternetFijoTecnologiaProvincia"
   ]
  },
  {
   "attachments": {},
   "cell_type": "markdown",
   "metadata": {},
   "source": [
    "Posteriormente normalizo un poco los datos"
   ]
  },
  {
   "cell_type": "code",
   "execution_count": 294,
   "metadata": {},
   "outputs": [],
   "source": [
    "datasetsporlimpiar = (AccesosInternetFijoVelocidad,AccesosInternetFijoTecnologiaTrimestral,\n",
    "                        VelocidadMediaBajadaInternetFijo,PenetracionInternetFijoNacH,AccesosBandaAnchaAngosta,\n",
    "                        IngresosInternetFIjoTrimestral,ConectividadalServiciodeInternet)\n",
    "\n",
    "IngresosInternetFIjoTrimestral.rename(columns = {'Ingresos (miles de pesos)': 'Ingresos'},inplace = True)\n",
    "PenetracionInternetFijoNacH.rename(columns = {'Accesos por cada 100 hogares': 'AccesosC100Hom',\n",
    "                                'Accesos por cada 100 hab': 'AccesosC100Hab'},inplace = True)\n",
    "VelocidadMediaBajadaInternetFijo.rename(columns = {'Mbps (Media de bajada)': 'MediaBajada'},inplace = True)\n",
    "AccesosInternetFijoTecnologiaTrimestral.rename(columns = {'Fibra óptica': 'FibraOptica'},inplace = True)\n",
    "AccesosInternetFijoTecnologiaTrimestral.rename(columns = {'Total': 'TotalIngresosInternet'},inplace = True)\n",
    "AccesosBandaAnchaAngosta.rename(columns = {'Dial up': 'DialUp',\n",
    "                                    'Banda ancha fija':'BanchaAnchaFija',\n",
    "                                    'Total':'TotalAccesosBanda'},inplace = True)"
   ]
  },
  {
   "cell_type": "code",
   "execution_count": 295,
   "metadata": {},
   "outputs": [],
   "source": [
    "def deleteadorDeColumnas(data = pd.DataFrame):\n",
    "    \"\"\"Esta función recibe como parámetro un DataFrame y elimina las columnas:\n",
    "    'director','country','date_added','rating','description'\n",
    "     \"\"\"\n",
    "\n",
    "    if (type(data)== pd.DataFrame):\n",
    "        cadenaTitulos = ('Unnamed: 11','Periodo','Trimestre.1','Latitud','Longitud','Poblacion')\n",
    "        data1 = data\n",
    "        # Este for se encarga de dropear todas las columnas que haya dentro de la lista cadenaTitulos\n",
    "        for numero,columna in enumerate(cadenaTitulos):\n",
    "            if columna in data1.columns:\n",
    "                data1.drop(labels = columna, axis  =1, inplace = True)\n",
    "        return data1\n",
    "    else: \n",
    "        print('El tipo de dato debe ser DataFrame')\n",
    "\n",
    "\n",
    "# se manda llamar a la función deleteadorDeColumnas para cada uno de los DataFrames\n",
    "for i,e in enumerate(datasetsporlimpiar):\n",
    "    e = deleteadorDeColumnas(e)\n"
   ]
  },
  {
   "attachments": {},
   "cell_type": "markdown",
   "metadata": {},
   "source": [
    "Se genera motor y se mandan los datos a MySQL, decido mandarlos para poder verlos con mayor detenimiento y amplitud"
   ]
  },
  {
   "cell_type": "code",
   "execution_count": 296,
   "metadata": {},
   "outputs": [],
   "source": [
    "# En esta sección se crea un motor para poder compartir la base de datos a SQL \n",
    "url_object = URL.create(\n",
    "    drivername = \"mysql+pymysql\",\n",
    "    username=\"root\",\n",
    "    password=\"Leonardo1\",  \n",
    "    host=\"127.0.0.1\",\n",
    "    port = \"3306\",\n",
    "    database=\"pi03\"\n",
    ")\n",
    "engine = create_engine(url_object, encoding = 'latin-1')"
   ]
  },
  {
   "cell_type": "code",
   "execution_count": 89,
   "metadata": {},
   "outputs": [
    {
     "name": "stderr",
     "output_type": "stream",
     "text": [
      "C:\\Users\\Asus\\AppData\\Local\\Packages\\PythonSoftwareFoundation.Python.3.10_qbz5n2kfra8p0\\LocalCache\\local-packages\\Python310\\site-packages\\pandas\\io\\sql.py:1666: UserWarning: The provided table name 'AccesosInternetFijoVelocidad' is not found exactly as such in the database after writing the table, possibly due to case sensitivity issues. Consider using lower case table names.\n",
      "  warnings.warn(msg, UserWarning)\n",
      "C:\\Users\\Asus\\AppData\\Local\\Packages\\PythonSoftwareFoundation.Python.3.10_qbz5n2kfra8p0\\LocalCache\\local-packages\\Python310\\site-packages\\pandas\\io\\sql.py:1666: UserWarning: The provided table name 'AccesoInternetFijoVelocidadBajadaProvincia' is not found exactly as such in the database after writing the table, possibly due to case sensitivity issues. Consider using lower case table names.\n",
      "  warnings.warn(msg, UserWarning)\n",
      "C:\\Users\\Asus\\AppData\\Local\\Packages\\PythonSoftwareFoundation.Python.3.10_qbz5n2kfra8p0\\LocalCache\\local-packages\\Python310\\site-packages\\pandas\\io\\sql.py:1666: UserWarning: The provided table name 'AccesosInternetFijoTecnologiaTrimestral' is not found exactly as such in the database after writing the table, possibly due to case sensitivity issues. Consider using lower case table names.\n",
      "  warnings.warn(msg, UserWarning)\n",
      "C:\\Users\\Asus\\AppData\\Local\\Packages\\PythonSoftwareFoundation.Python.3.10_qbz5n2kfra8p0\\LocalCache\\local-packages\\Python310\\site-packages\\pandas\\io\\sql.py:1666: UserWarning: The provided table name 'AccesosInternetFijoTecnologiaProvincia' is not found exactly as such in the database after writing the table, possibly due to case sensitivity issues. Consider using lower case table names.\n",
      "  warnings.warn(msg, UserWarning)\n",
      "C:\\Users\\Asus\\AppData\\Local\\Packages\\PythonSoftwareFoundation.Python.3.10_qbz5n2kfra8p0\\LocalCache\\local-packages\\Python310\\site-packages\\pandas\\io\\sql.py:1666: UserWarning: The provided table name 'VelocidadMediaBajadaInternetFijo' is not found exactly as such in the database after writing the table, possibly due to case sensitivity issues. Consider using lower case table names.\n",
      "  warnings.warn(msg, UserWarning)\n",
      "C:\\Users\\Asus\\AppData\\Local\\Packages\\PythonSoftwareFoundation.Python.3.10_qbz5n2kfra8p0\\LocalCache\\local-packages\\Python310\\site-packages\\pandas\\io\\sql.py:1666: UserWarning: The provided table name 'VelocidadMediaBajadaInternetFijoProvincia' is not found exactly as such in the database after writing the table, possibly due to case sensitivity issues. Consider using lower case table names.\n",
      "  warnings.warn(msg, UserWarning)\n",
      "C:\\Users\\Asus\\AppData\\Local\\Packages\\PythonSoftwareFoundation.Python.3.10_qbz5n2kfra8p0\\LocalCache\\local-packages\\Python310\\site-packages\\pandas\\io\\sql.py:1666: UserWarning: The provided table name 'PenetracionInternetFijoNacH' is not found exactly as such in the database after writing the table, possibly due to case sensitivity issues. Consider using lower case table names.\n",
      "  warnings.warn(msg, UserWarning)\n",
      "C:\\Users\\Asus\\AppData\\Local\\Packages\\PythonSoftwareFoundation.Python.3.10_qbz5n2kfra8p0\\LocalCache\\local-packages\\Python310\\site-packages\\pandas\\io\\sql.py:1666: UserWarning: The provided table name 'PenetracionInternetFijo100H' is not found exactly as such in the database after writing the table, possibly due to case sensitivity issues. Consider using lower case table names.\n",
      "  warnings.warn(msg, UserWarning)\n",
      "C:\\Users\\Asus\\AppData\\Local\\Packages\\PythonSoftwareFoundation.Python.3.10_qbz5n2kfra8p0\\LocalCache\\local-packages\\Python310\\site-packages\\pandas\\io\\sql.py:1666: UserWarning: The provided table name 'IngresosInternetFIjoTrimestral' is not found exactly as such in the database after writing the table, possibly due to case sensitivity issues. Consider using lower case table names.\n",
      "  warnings.warn(msg, UserWarning)\n",
      "C:\\Users\\Asus\\AppData\\Local\\Packages\\PythonSoftwareFoundation.Python.3.10_qbz5n2kfra8p0\\LocalCache\\local-packages\\Python310\\site-packages\\pandas\\io\\sql.py:1666: UserWarning: The provided table name 'AccesosBandaAnchaAngosta' is not found exactly as such in the database after writing the table, possibly due to case sensitivity issues. Consider using lower case table names.\n",
      "  warnings.warn(msg, UserWarning)\n",
      "C:\\Users\\Asus\\AppData\\Local\\Packages\\PythonSoftwareFoundation.Python.3.10_qbz5n2kfra8p0\\LocalCache\\local-packages\\Python310\\site-packages\\pandas\\io\\sql.py:1666: UserWarning: The provided table name 'AccesosBandaAnchaAngostaProvincia' is not found exactly as such in the database after writing the table, possibly due to case sensitivity issues. Consider using lower case table names.\n",
      "  warnings.warn(msg, UserWarning)\n",
      "C:\\Users\\Asus\\AppData\\Local\\Packages\\PythonSoftwareFoundation.Python.3.10_qbz5n2kfra8p0\\LocalCache\\local-packages\\Python310\\site-packages\\pandas\\io\\sql.py:1666: UserWarning: The provided table name 'ConectividadalServiciodeInternet' is not found exactly as such in the database after writing the table, possibly due to case sensitivity issues. Consider using lower case table names.\n",
      "  warnings.warn(msg, UserWarning)\n",
      "C:\\Users\\Asus\\AppData\\Local\\Packages\\PythonSoftwareFoundation.Python.3.10_qbz5n2kfra8p0\\LocalCache\\local-packages\\Python310\\site-packages\\pandas\\io\\sql.py:1666: UserWarning: The provided table name 'ListadoLocalidadesconConectividadaInternet' is not found exactly as such in the database after writing the table, possibly due to case sensitivity issues. Consider using lower case table names.\n",
      "  warnings.warn(msg, UserWarning)\n"
     ]
    },
    {
     "data": {
      "text/plain": [
       "4312"
      ]
     },
     "execution_count": 89,
     "metadata": {},
     "output_type": "execute_result"
    }
   ],
   "source": [
    "AccesosInternetFijoVelocidad.to_sql('AccesosInternetFijoVelocidad',con=engine,index=False, if_exists='replace') \n",
    "AccesoInternetFijoVelocidadBajadaProvincia.to_sql('AccesoInternetFijoVelocidadBajadaProvincia',con=engine,index=False, if_exists='replace') \n",
    "AccesosInternetFijoTecnologiaTrimestral.to_sql('AccesosInternetFijoTecnologiaTrimestral',con=engine,index=False, if_exists='replace') \n",
    "AccesosInternetFijoTecnologiaProvincia.to_sql('AccesosInternetFijoTecnologiaProvincia',con=engine,index=False, if_exists='replace') \n",
    "VelocidadMediaBajadaInternetFijo.to_sql('VelocidadMediaBajadaInternetFijo',con=engine,index=False, if_exists='replace') \n",
    "VelocidadMediaBajadaInternetFijoProvincia.to_sql('VelocidadMediaBajadaInternetFijoProvincia',con=engine,index=False, if_exists='replace') \n",
    "PenetracionInternetFijoNacH.to_sql('Pe#netracionInternetFijoNacH',con=engine,index=False, if_exists='replace') \n",
    "PenetracionInternetFijo100H.to_sql('PenetracionInternetFijo100H',con=engine,index=False, if_exists='replace') \n",
    "IngresosInternetFIjoTrimestral.to_sql('IngresosInternetFIjoTrimestral',con=engine,index=False, if_exists='replace') \n",
    "AccesosBandaAnchaAngosta.to_sql('AccesosBandaAnchaAngosta',con=engine,index=False, if_exists='replace') \n",
    "AccesosBandaAnchaAngostaProvincia.to_sql('AccesosBandaAnchaAngostaProvincia',con=engine,index=False, if_exists='replace') \n",
    "ConectividadalServiciodeInternet.to_sql('ConectividadalServiciodeInternet',con=engine,index=False, if_exists='replace') \n",
    "ListadoLocalidadesconConectividadaInternet.to_sql('ListadoLocalidadesconConectividadaInternet',con=engine,index=False, if_exists='replace')"
   ]
  },
  {
   "attachments": {},
   "cell_type": "markdown",
   "metadata": {},
   "source": [
    "En MySQL generé tabla de DatosTrimestralesNacionales, posteriormente la guarde y cambie los tipos de dato de algunas columnas"
   ]
  },
  {
   "cell_type": "code",
   "execution_count": 301,
   "metadata": {},
   "outputs": [
    {
     "data": {
      "text/html": [
       "<div>\n",
       "<style scoped>\n",
       "    .dataframe tbody tr th:only-of-type {\n",
       "        vertical-align: middle;\n",
       "    }\n",
       "\n",
       "    .dataframe tbody tr th {\n",
       "        vertical-align: top;\n",
       "    }\n",
       "\n",
       "    .dataframe thead th {\n",
       "        text-align: right;\n",
       "    }\n",
       "</style>\n",
       "<table border=\"1\" class=\"dataframe\">\n",
       "  <thead>\n",
       "    <tr style=\"text-align: right;\">\n",
       "      <th></th>\n",
       "      <th>Año</th>\n",
       "      <th>Trimestre</th>\n",
       "      <th>AccesosC100Hab</th>\n",
       "      <th>AccesosC100Hom</th>\n",
       "      <th>Ingresos</th>\n",
       "      <th>MediaBajada</th>\n",
       "      <th>ADSL</th>\n",
       "      <th>Cablemodem</th>\n",
       "      <th>FibraOptica</th>\n",
       "      <th>Wireless</th>\n",
       "      <th>Otros</th>\n",
       "      <th>TotalIngresosInternet</th>\n",
       "      <th>BanchaAnchaFija</th>\n",
       "      <th>DialUp</th>\n",
       "      <th>TotalAccesosBanda</th>\n",
       "    </tr>\n",
       "  </thead>\n",
       "  <tbody>\n",
       "    <tr>\n",
       "      <th>0</th>\n",
       "      <td>2022</td>\n",
       "      <td>1</td>\n",
       "      <td>23.05</td>\n",
       "      <td>73.88</td>\n",
       "      <td>56195811</td>\n",
       "      <td>55.11</td>\n",
       "      <td>1.533.240</td>\n",
       "      <td>6.073.426</td>\n",
       "      <td>2.219.533</td>\n",
       "      <td>545.814</td>\n",
       "      <td>251.996</td>\n",
       "      <td>10624009</td>\n",
       "      <td>10.611.390</td>\n",
       "      <td>12.619</td>\n",
       "      <td>10624009</td>\n",
       "    </tr>\n",
       "    <tr>\n",
       "      <th>1</th>\n",
       "      <td>2022</td>\n",
       "      <td>2</td>\n",
       "      <td>23.72</td>\n",
       "      <td>75.97</td>\n",
       "      <td>60942843</td>\n",
       "      <td>58.44</td>\n",
       "      <td>1.468.333</td>\n",
       "      <td>5.979.214</td>\n",
       "      <td>2.723.285</td>\n",
       "      <td>556.243</td>\n",
       "      <td>231.609</td>\n",
       "      <td>10958684</td>\n",
       "      <td>10.946.248</td>\n",
       "      <td>12.436</td>\n",
       "      <td>10958684</td>\n",
       "    </tr>\n",
       "    <tr>\n",
       "      <th>2</th>\n",
       "      <td>2021</td>\n",
       "      <td>1</td>\n",
       "      <td>21.13</td>\n",
       "      <td>67.95</td>\n",
       "      <td>36676371</td>\n",
       "      <td>43.11</td>\n",
       "      <td>2.175.211</td>\n",
       "      <td>5.424.782</td>\n",
       "      <td>1.362.976</td>\n",
       "      <td>434.548</td>\n",
       "      <td>250.455</td>\n",
       "      <td>9647972</td>\n",
       "      <td>9.637.956</td>\n",
       "      <td>10.016</td>\n",
       "      <td>9647972</td>\n",
       "    </tr>\n",
       "    <tr>\n",
       "      <th>3</th>\n",
       "      <td>2021</td>\n",
       "      <td>2</td>\n",
       "      <td>21.55</td>\n",
       "      <td>69.24</td>\n",
       "      <td>38239667</td>\n",
       "      <td>45.63</td>\n",
       "      <td>2.018.587</td>\n",
       "      <td>5.641.731</td>\n",
       "      <td>1.472.246</td>\n",
       "      <td>476.968</td>\n",
       "      <td>253.552</td>\n",
       "      <td>9863084</td>\n",
       "      <td>9.852.702</td>\n",
       "      <td>10.382</td>\n",
       "      <td>9863084</td>\n",
       "    </tr>\n",
       "    <tr>\n",
       "      <th>4</th>\n",
       "      <td>2021</td>\n",
       "      <td>3</td>\n",
       "      <td>21.98</td>\n",
       "      <td>70.58</td>\n",
       "      <td>42999944</td>\n",
       "      <td>48.46</td>\n",
       "      <td>1.950.631</td>\n",
       "      <td>5.826.257</td>\n",
       "      <td>1.566.048</td>\n",
       "      <td>492.415</td>\n",
       "      <td>250.190</td>\n",
       "      <td>10085541</td>\n",
       "      <td>10.075.184</td>\n",
       "      <td>10.357</td>\n",
       "      <td>10085541</td>\n",
       "    </tr>\n",
       "  </tbody>\n",
       "</table>\n",
       "</div>"
      ],
      "text/plain": [
       "    Año  Trimestre  AccesosC100Hab  AccesosC100Hom  Ingresos  MediaBajada  \\\n",
       "0  2022          1           23.05           73.88  56195811        55.11   \n",
       "1  2022          2           23.72           75.97  60942843        58.44   \n",
       "2  2021          1           21.13           67.95  36676371        43.11   \n",
       "3  2021          2           21.55           69.24  38239667        45.63   \n",
       "4  2021          3           21.98           70.58  42999944        48.46   \n",
       "\n",
       "        ADSL Cablemodem FibraOptica  Wireless    Otros  TotalIngresosInternet  \\\n",
       "0  1.533.240  6.073.426   2.219.533   545.814  251.996               10624009   \n",
       "1  1.468.333  5.979.214   2.723.285   556.243  231.609               10958684   \n",
       "2  2.175.211  5.424.782   1.362.976   434.548  250.455                9647972   \n",
       "3  2.018.587  5.641.731   1.472.246   476.968  253.552                9863084   \n",
       "4  1.950.631  5.826.257   1.566.048   492.415  250.190               10085541   \n",
       "\n",
       "  BanchaAnchaFija  DialUp  TotalAccesosBanda  \n",
       "0      10.611.390  12.619           10624009  \n",
       "1      10.946.248  12.436           10958684  \n",
       "2       9.637.956  10.016            9647972  \n",
       "3       9.852.702  10.382            9863084  \n",
       "4      10.075.184  10.357           10085541  "
      ]
     },
     "execution_count": 301,
     "metadata": {},
     "output_type": "execute_result"
    }
   ],
   "source": [
    "# Se ocupó esta parte del programa para cambiar los tipos de datos y poder guardar cipoias de las tablas, decido dejarlo así para que se note el trabajo hecho ya que si lo elimino posiblemente causaría un poco de confusión sobre en qué momento cambiaron los datos\n",
    "\"\"\"\n",
    "DatosTrimestralesNacionales['Ingresos'] = DatosTrimestralesNacionales['Ingresos'].str.replace(\".\", \"\",n=2)\n",
    "DatosTrimestralesNacionales['Ingresos'] = round((pd.to_numeric(DatosTrimestralesNacionales['Ingresos'])),0)\n",
    "DatosTrimestralesNacionales['Año'] = (pd.to_numeric(DatosTrimestralesNacionales['Año']))\n",
    "DatosTrimestralesNacionales['Trimestre'] = (pd.to_numeric(DatosTrimestralesNacionales['Trimestre']))\n",
    "DatosTrimestralesNacionales['AccesosC100Hab'] = DatosTrimestralesNacionales['AccesosC100Hab'].str.replace(\",\", \".\")\n",
    "DatosTrimestralesNacionales['AccesosC100Hab'] = (pd.to_numeric(DatosTrimestralesNacionales['AccesosC100Hab']))\n",
    "DatosTrimestralesNacionales['AccesosC100Hom'] = DatosTrimestralesNacionales['AccesosC100Hom'].str.replace(\",\", \".\")\n",
    "DatosTrimestralesNacionales['AccesosC100Hom'] = (pd.to_numeric(DatosTrimestralesNacionales['AccesosC100Hom']))\n",
    "DatosTrimestralesNacionales['MediaBajada'] = DatosTrimestralesNacionales['MediaBajada'].str.replace(\",\", \".\")\n",
    "DatosTrimestralesNacionales['MediaBajada'] = (pd.to_numeric(DatosTrimestralesNacionales['MediaBajada']))\n",
    "DatosTrimestralesNacionales['TotalIngresosInternet'] = DatosTrimestralesNacionales['TotalIngresosInternet'].str.replace(\".\", \"\")\n",
    "DatosTrimestralesNacionales['TotalIngresosInternet'] = (pd.to_numeric(DatosTrimestralesNacionales['TotalIngresosInternet']))\n",
    "DatosTrimestralesNacionales['TotalAccesosBanda'] = DatosTrimestralesNacionales['TotalAccesosBanda'].str.replace(\".\", \"\")\n",
    "DatosTrimestralesNacionales['TotalAccesosBanda'] = (pd.to_numeric(DatosTrimestralesNacionales['TotalAccesosBanda']))\n",
    "DatosTrimestralesNacionales.to_sql('DatosTrimestralesNacionales',con=engine,index=False, if_exists='replace')\n",
    "\"\"\"\n",
    "DatosTrimestralesNacionales.head(5)"
   ]
  },
  {
   "attachments": {},
   "cell_type": "markdown",
   "metadata": {},
   "source": [
    "Generación de algnos gráficos para poder ir notando la variación de los datos"
   ]
  },
  {
   "cell_type": "code",
   "execution_count": 302,
   "metadata": {},
   "outputs": [
    {
     "data": {
      "image/png": "[encoded data removed]",
      "text/plain": [
       "<Figure size 432x288 with 1 Axes>"
      ]
     },
     "metadata": {},
     "output_type": "display_data"
    },
    {
     "data": {
      "text/plain": [
       "<Figure size 72x72 with 0 Axes>"
      ]
     },
     "metadata": {},
     "output_type": "display_data"
    }
   ],
   "source": [
    "sns.barplot(x = DatosTrimestralesNacionales.Año,y = DatosTrimestralesNacionales.Ingresos, hue =DatosTrimestralesNacionales.Trimestre )\n",
    "plt.title('Crecsdfimiento trimestral - Ingresos Monterios')\n",
    "plt.figure(figsize=(1,1))\n",
    "plt.show()"
   ]
  },
  {
   "cell_type": "code",
   "execution_count": 303,
   "metadata": {},
   "outputs": [
    {
     "data": {
      "text/plain": [
       "<AxesSubplot: xlabel='Año', ylabel='MediaBajada'>"
      ]
     },
     "execution_count": 303,
     "metadata": {},
     "output_type": "execute_result"
    },
    {
     "data": {
      "image/png": "[encoded data removed]",
      "text/plain": [
       "<Figure size 432x288 with 1 Axes>"
      ]
     },
     "metadata": {},
     "output_type": "display_data"
    }
   ],
   "source": [
    "sns.barplot(x = DatosTrimestralesNacionales.Año,y = DatosTrimestralesNacionales.MediaBajada)"
   ]
  },
  {
   "cell_type": "code",
   "execution_count": 304,
   "metadata": {},
   "outputs": [
    {
     "data": {
      "text/plain": [
       "<AxesSubplot: xlabel='Año', ylabel='TotalIngresosInternet'>"
      ]
     },
     "execution_count": 304,
     "metadata": {},
     "output_type": "execute_result"
    },
    {
     "data": {
      "image/png": "[encoded data removed]",
      "text/plain": [
       "<Figure size 432x288 with 1 Axes>"
      ]
     },
     "metadata": {},
     "output_type": "display_data"
    }
   ],
   "source": [
    "sns.barplot(x = DatosTrimestralesNacionales.Año,y = DatosTrimestralesNacionales.TotalIngresosInternet )"
   ]
  },
  {
   "cell_type": "code",
   "execution_count": 305,
   "metadata": {},
   "outputs": [
    {
     "data": {
      "text/plain": [
       "<AxesSubplot: xlabel='Año', ylabel='TotalAccesosBanda'>"
      ]
     },
     "execution_count": 305,
     "metadata": {},
     "output_type": "execute_result"
    },
    {
     "data": {
      "image/png": "[encoded data removed]",
      "text/plain": [
       "<Figure size 432x288 with 1 Axes>"
      ]
     },
     "metadata": {},
     "output_type": "display_data"
    }
   ],
   "source": [
    "sns.barplot(x = DatosTrimestralesNacionales.Año,y = DatosTrimestralesNacionales.TotalAccesosBanda)"
   ]
  },
  {
   "cell_type": "code",
   "execution_count": 306,
   "metadata": {},
   "outputs": [
    {
     "data": {
      "text/plain": [
       "<AxesSubplot: xlabel='Año', ylabel='AccesosC100Hom'>"
      ]
     },
     "execution_count": 306,
     "metadata": {},
     "output_type": "execute_result"
    },
    {
     "data": {
      "image/png": "[encoded data removed]",
      "text/plain": [
       "<Figure size 432x288 with 1 Axes>"
      ]
     },
     "metadata": {},
     "output_type": "display_data"
    }
   ],
   "source": [
    "sns.barplot(x = DatosTrimestralesNacionales.Año,y = DatosTrimestralesNacionales.AccesosC100Hom)"
   ]
  },
  {
   "cell_type": "code",
   "execution_count": 307,
   "metadata": {},
   "outputs": [
    {
     "data": {
      "text/plain": [
       "<AxesSubplot: xlabel='Año', ylabel='AccesosC100Hab'>"
      ]
     },
     "execution_count": 307,
     "metadata": {},
     "output_type": "execute_result"
    },
    {
     "data": {
      "image/png": "[encoded data removed]",
      "text/plain": [
       "<Figure size 432x288 with 1 Axes>"
      ]
     },
     "metadata": {},
     "output_type": "display_data"
    }
   ],
   "source": [
    "sns.barplot(x = DatosTrimestralesNacionales.Año,y = DatosTrimestralesNacionales.AccesosC100Hab)"
   ]
  },
  {
   "cell_type": "code",
   "execution_count": 308,
   "metadata": {},
   "outputs": [
    {
     "data": {
      "image/png": "[encoded data removed]",
      "text/plain": [
       "<Figure size 432x288 with 1 Axes>"
      ]
     },
     "metadata": {},
     "output_type": "display_data"
    }
   ],
   "source": [
    "sns.boxplot(AccesosInternetFijoTecnologiaTrimestral.Otros)\n",
    "plt.show()"
   ]
  }
 ],
 "metadata": {
  "kernelspec": {
   "display_name": "Python 3",
   "language": "python",
   "name": "python3"
  },
  "language_info": {
   "codemirror_mode": {
    "name": "ipython",
    "version": 3
   },
   "file_extension": ".py",
   "mimetype": "text/x-python",
   "name": "python",
   "nbconvert_exporter": "python",
   "pygments_lexer": "ipython3",
   "version": "3.10.9"
  },
  "orig_nbformat": 4,
  "vscode": {
   "interpreter": {
    "hash": "66f804da07f0f556d77bc3269dc5bb19edf020422864031af2885e5ff55f9079"
   }
  }
 },
 "nbformat": 4,
 "nbformat_minor": 2
}
